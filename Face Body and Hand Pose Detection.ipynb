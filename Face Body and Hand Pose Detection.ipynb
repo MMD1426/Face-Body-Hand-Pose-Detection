{
 "cells": [
  {
   "cell_type": "code",
   "execution_count": 2,
   "metadata": {},
   "outputs": [],
   "source": [
    "import cv2\n",
    "import mediapipe as mp"
   ]
  },
  {
   "cell_type": "code",
   "execution_count": 3,
   "metadata": {},
   "outputs": [],
   "source": [
    "mp_drawing = mp.solutions.drawing_utils\n",
    "mp_holistic = mp.solutions.holistic"
   ]
  },
  {
   "cell_type": "code",
   "execution_count": 6,
   "metadata": {},
   "outputs": [],
   "source": [
    "cap = cv2.VideoCapture(0)\n",
    "\n",
    "with mp_holistic.Holistic(min_detection_confidence=0.5,min_tracking_confidence=0.5) as holistic:\n",
    "\n",
    "    while True:\n",
    "\n",
    "        ret,frame = cap.read()\n",
    "        frame = cv2.resize(frame,(500,500))\n",
    "\n",
    "        result = holistic.process(frame)\n",
    "\n",
    "        mp_drawing.draw_landmarks(frame,result.face_landmarks,mp_holistic.FACEMESH_CONTOURS,\n",
    "                                  mp_drawing.DrawingSpec(color=(0,255,0),thickness=1,circle_radius=1),\n",
    "                                  mp_drawing.DrawingSpec(color=(0,255,0),thickness=1,circle_radius=1))\n",
    "        mp_drawing.draw_landmarks(frame,result.right_hand_landmarks,mp_holistic.HAND_CONNECTIONS,\n",
    "                                  mp_drawing.DrawingSpec(color=(0,0,255),thickness=1,circle_radius=1),\n",
    "                                  mp_drawing.DrawingSpec(color=(255,255,255),thickness=1,circle_radius=1))\n",
    "        mp_drawing.draw_landmarks(frame,result.left_hand_landmarks,mp_holistic.HAND_CONNECTIONS,\n",
    "                                  mp_drawing.DrawingSpec(color=(0,0,255),thickness=1,circle_radius=1),\n",
    "                                  mp_drawing.DrawingSpec(color=(255,255,255),thickness=1,circle_radius=1))\n",
    "        \n",
    "        mp_drawing.draw_landmarks(frame,result.pose_landmarks,mp_holistic.POSE_CONNECTIONS,\n",
    "                                  mp_drawing.DrawingSpec(color=(0,0,255),thickness=1,circle_radius=1),\n",
    "                                  mp_drawing.DrawingSpec(color=(255,255,255),thickness=1,circle_radius=1))\n",
    "        \n",
    "        cv2.imshow(\"Frame\",frame)\n",
    "\n",
    "        if cv2.waitKey(1) & 0xFF == ord('q'):\n",
    "            break\n",
    "\n",
    "cap.release()\n",
    "cv2.destroyAllWindows()"
   ]
  },
  {
   "cell_type": "code",
   "execution_count": null,
   "metadata": {},
   "outputs": [],
   "source": []
  }
 ],
 "metadata": {
  "kernelspec": {
   "display_name": "Python 3",
   "language": "python",
   "name": "python3"
  },
  "language_info": {
   "codemirror_mode": {
    "name": "ipython",
    "version": 3
   },
   "file_extension": ".py",
   "mimetype": "text/x-python",
   "name": "python",
   "nbconvert_exporter": "python",
   "pygments_lexer": "ipython3",
   "version": "3.8.1"
  }
 },
 "nbformat": 4,
 "nbformat_minor": 2
}
